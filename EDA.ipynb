{
 "cells": [
  {
   "cell_type": "code",
   "execution_count": 4,
   "metadata": {},
   "outputs": [
    {
     "name": "stdout",
     "output_type": "stream",
     "text": [
      "/teamspace/studios/this_studio/2024/07/flood_prediction_notebook/flood_prediciton_code\n"
     ]
    },
    {
     "name": "stderr",
     "output_type": "stream",
     "text": [
      "/home/zeus/miniconda3/envs/cloudspace/lib/python3.10/site-packages/IPython/core/magics/osm.py:417: UserWarning: using dhist requires you to install the `pickleshare` library.\n",
      "  self.shell.db['dhist'] = compress_dhist(dhist)[-100:]\n"
     ]
    }
   ],
   "source": [
    "%cd /teamspace/studios/this_studio/2024/07/flood_prediction_notebook/flood_prediciton_code"
   ]
  },
  {
   "cell_type": "code",
   "execution_count": 5,
   "metadata": {},
   "outputs": [],
   "source": [
    "import pandas as pd\n",
    "import numpy as np"
   ]
  },
  {
   "cell_type": "code",
   "execution_count": 6,
   "metadata": {},
   "outputs": [],
   "source": [
    "raw_train = pd.read_csv('../data/train.csv')"
   ]
  },
  {
   "cell_type": "code",
   "execution_count": 7,
   "metadata": {},
   "outputs": [],
   "source": [
    "    \n",
    "INITIAL_FEATURES = ['MonsoonIntensity', 'TopographyDrainage', 'RiverManagement',\n",
    "       'Deforestation', 'Urbanization', 'ClimateChange', 'DamsQuality',\n",
    "       'Siltation', 'AgriculturalPractices', 'Encroachments',\n",
    "       'IneffectiveDisasterPreparedness', 'DrainageSystems',\n",
    "       'CoastalVulnerability', 'Landslides', 'Watersheds',\n",
    "       'DeterioratingInfrastructure', 'PopulationScore', 'WetlandLoss',\n",
    "       'InadequatePlanning', 'PoliticalFactors']"
   ]
  },
  {
   "cell_type": "code",
   "execution_count": 8,
   "metadata": {},
   "outputs": [],
   "source": [
    "def create_features_4(data):\n",
    "    df = data.copy()\n",
    "\n",
    "    df['fsum'] = df[INITIAL_FEATURES].sum(axis=1) # for tree models\n",
    "    df['special1'] = df['fsum'].isin(np.arange(72, 76)) # for linear models\n",
    "\n",
    "    log_features = [f\"log_{col}\" for col in INITIAL_FEATURES]\n",
    "    log2_features = [f\"log_{col}\" for col in INITIAL_FEATURES]\n",
    "\n",
    "    exp_features = [f\"exp_{col}\" for col in INITIAL_FEATURES]\n",
    "    exp2_features = [f\"exp2_{col}\" for col in INITIAL_FEATURES]\n",
    "    exp3_features = [f\"exp3_{col}\" for col in INITIAL_FEATURES]\n",
    "    exp4_features = [f\"exp4_{col}\" for col in INITIAL_FEATURES]\n",
    "    new_cols = []\n",
    "\n",
    "    df['fsum2'] = df[INITIAL_FEATURES].product(axis=1)\n",
    "    df['zero_count'] = (df[INITIAL_FEATURES] < 10).sum(axis=1)\n",
    "    df['one_count'] = (df[INITIAL_FEATURES] > 10).sum(axis=1)\n",
    "    \n",
    "    df['special2'] = df['fsum2'].isin(np.arange(72, 76)) \n",
    "\n",
    "    for col in INITIAL_FEATURES:\n",
    "        df[f\"log_{col}\"] = np.log1p(df[col]+1e-4)  \n",
    "    df['log_sum'] = df[log_features].sum(axis=1)\n",
    "\n",
    "    for col in INITIAL_FEATURES:\n",
    "        df[f\"log2_{col}\"] = np.log2(df[col]+1e-4)  \n",
    "    df['log2_sum'] = df[log2_features].sum(axis=1)\n",
    "\n",
    "    for col in INITIAL_FEATURES:\n",
    "        df[f\"exp_{col}\"] = 1.2**(df[col])\n",
    "\n",
    "    df['exp_sum'] = df[exp_features].sum(axis=1)\n",
    "    df['exp_prod'] = df[exp_features].product(axis=1)\n",
    "\n",
    "    for col in INITIAL_FEATURES:\n",
    "        df[f\"exp2_{col}\"] = np.exp(df[col])\n",
    "    df['exp2_sum'] = df[exp2_features].sum(axis=1)\n",
    "\n",
    "\n",
    "    for col in INITIAL_FEATURES:\n",
    "        df[f\"exp3_{col}\"] = 4**(df[col])\n",
    "    df['exp3_sum'] = df[exp3_features].sum(axis=1)\n",
    "\n",
    "    for col in INITIAL_FEATURES:\n",
    "        df[f\"exp4_{col}\"] = 6**(df[col])\n",
    "    df['exp4_sum'] = df[exp4_features].sum(axis=1)\n",
    "\n",
    "    feats = list(INITIAL_FEATURES)+['fsum','one_count','fsum2','exp_sum','log_sum','log2_sum','exp2_sum','exp3_sum']\n",
    "    df = df[feats]\n",
    "    return df "
   ]
  },
  {
   "cell_type": "code",
   "execution_count": 9,
   "metadata": {},
   "outputs": [
    {
     "name": "stderr",
     "output_type": "stream",
     "text": [
      "/tmp/ipykernel_52691/2042723569.py:42: PerformanceWarning: DataFrame is highly fragmented.  This is usually the result of calling `frame.insert` many times, which has poor performance.  Consider joining all columns at once using pd.concat(axis=1) instead. To get a de-fragmented frame, use `newframe = frame.copy()`\n",
      "  df[f\"exp3_{col}\"] = 4**(df[col])\n",
      "/tmp/ipykernel_52691/2042723569.py:42: PerformanceWarning: DataFrame is highly fragmented.  This is usually the result of calling `frame.insert` many times, which has poor performance.  Consider joining all columns at once using pd.concat(axis=1) instead. To get a de-fragmented frame, use `newframe = frame.copy()`\n",
      "  df[f\"exp3_{col}\"] = 4**(df[col])\n",
      "/tmp/ipykernel_52691/2042723569.py:42: PerformanceWarning: DataFrame is highly fragmented.  This is usually the result of calling `frame.insert` many times, which has poor performance.  Consider joining all columns at once using pd.concat(axis=1) instead. To get a de-fragmented frame, use `newframe = frame.copy()`\n",
      "  df[f\"exp3_{col}\"] = 4**(df[col])\n",
      "/tmp/ipykernel_52691/2042723569.py:42: PerformanceWarning: DataFrame is highly fragmented.  This is usually the result of calling `frame.insert` many times, which has poor performance.  Consider joining all columns at once using pd.concat(axis=1) instead. To get a de-fragmented frame, use `newframe = frame.copy()`\n",
      "  df[f\"exp3_{col}\"] = 4**(df[col])\n",
      "/tmp/ipykernel_52691/2042723569.py:42: PerformanceWarning: DataFrame is highly fragmented.  This is usually the result of calling `frame.insert` many times, which has poor performance.  Consider joining all columns at once using pd.concat(axis=1) instead. To get a de-fragmented frame, use `newframe = frame.copy()`\n",
      "  df[f\"exp3_{col}\"] = 4**(df[col])\n",
      "/tmp/ipykernel_52691/2042723569.py:42: PerformanceWarning: DataFrame is highly fragmented.  This is usually the result of calling `frame.insert` many times, which has poor performance.  Consider joining all columns at once using pd.concat(axis=1) instead. To get a de-fragmented frame, use `newframe = frame.copy()`\n",
      "  df[f\"exp3_{col}\"] = 4**(df[col])\n",
      "/tmp/ipykernel_52691/2042723569.py:42: PerformanceWarning: DataFrame is highly fragmented.  This is usually the result of calling `frame.insert` many times, which has poor performance.  Consider joining all columns at once using pd.concat(axis=1) instead. To get a de-fragmented frame, use `newframe = frame.copy()`\n",
      "  df[f\"exp3_{col}\"] = 4**(df[col])\n",
      "/tmp/ipykernel_52691/2042723569.py:42: PerformanceWarning: DataFrame is highly fragmented.  This is usually the result of calling `frame.insert` many times, which has poor performance.  Consider joining all columns at once using pd.concat(axis=1) instead. To get a de-fragmented frame, use `newframe = frame.copy()`\n",
      "  df[f\"exp3_{col}\"] = 4**(df[col])\n",
      "/tmp/ipykernel_52691/2042723569.py:42: PerformanceWarning: DataFrame is highly fragmented.  This is usually the result of calling `frame.insert` many times, which has poor performance.  Consider joining all columns at once using pd.concat(axis=1) instead. To get a de-fragmented frame, use `newframe = frame.copy()`\n",
      "  df[f\"exp3_{col}\"] = 4**(df[col])\n",
      "/tmp/ipykernel_52691/2042723569.py:42: PerformanceWarning: DataFrame is highly fragmented.  This is usually the result of calling `frame.insert` many times, which has poor performance.  Consider joining all columns at once using pd.concat(axis=1) instead. To get a de-fragmented frame, use `newframe = frame.copy()`\n",
      "  df[f\"exp3_{col}\"] = 4**(df[col])\n",
      "/tmp/ipykernel_52691/2042723569.py:42: PerformanceWarning: DataFrame is highly fragmented.  This is usually the result of calling `frame.insert` many times, which has poor performance.  Consider joining all columns at once using pd.concat(axis=1) instead. To get a de-fragmented frame, use `newframe = frame.copy()`\n",
      "  df[f\"exp3_{col}\"] = 4**(df[col])\n",
      "/tmp/ipykernel_52691/2042723569.py:42: PerformanceWarning: DataFrame is highly fragmented.  This is usually the result of calling `frame.insert` many times, which has poor performance.  Consider joining all columns at once using pd.concat(axis=1) instead. To get a de-fragmented frame, use `newframe = frame.copy()`\n",
      "  df[f\"exp3_{col}\"] = 4**(df[col])\n",
      "/tmp/ipykernel_52691/2042723569.py:42: PerformanceWarning: DataFrame is highly fragmented.  This is usually the result of calling `frame.insert` many times, which has poor performance.  Consider joining all columns at once using pd.concat(axis=1) instead. To get a de-fragmented frame, use `newframe = frame.copy()`\n",
      "  df[f\"exp3_{col}\"] = 4**(df[col])\n",
      "/tmp/ipykernel_52691/2042723569.py:43: PerformanceWarning: DataFrame is highly fragmented.  This is usually the result of calling `frame.insert` many times, which has poor performance.  Consider joining all columns at once using pd.concat(axis=1) instead. To get a de-fragmented frame, use `newframe = frame.copy()`\n",
      "  df['exp3_sum'] = df[exp3_features].sum(axis=1)\n",
      "/tmp/ipykernel_52691/2042723569.py:46: PerformanceWarning: DataFrame is highly fragmented.  This is usually the result of calling `frame.insert` many times, which has poor performance.  Consider joining all columns at once using pd.concat(axis=1) instead. To get a de-fragmented frame, use `newframe = frame.copy()`\n",
      "  df[f\"exp4_{col}\"] = 6**(df[col])\n",
      "/tmp/ipykernel_52691/2042723569.py:46: PerformanceWarning: DataFrame is highly fragmented.  This is usually the result of calling `frame.insert` many times, which has poor performance.  Consider joining all columns at once using pd.concat(axis=1) instead. To get a de-fragmented frame, use `newframe = frame.copy()`\n",
      "  df[f\"exp4_{col}\"] = 6**(df[col])\n",
      "/tmp/ipykernel_52691/2042723569.py:46: PerformanceWarning: DataFrame is highly fragmented.  This is usually the result of calling `frame.insert` many times, which has poor performance.  Consider joining all columns at once using pd.concat(axis=1) instead. To get a de-fragmented frame, use `newframe = frame.copy()`\n",
      "  df[f\"exp4_{col}\"] = 6**(df[col])\n",
      "/tmp/ipykernel_52691/2042723569.py:46: PerformanceWarning: DataFrame is highly fragmented.  This is usually the result of calling `frame.insert` many times, which has poor performance.  Consider joining all columns at once using pd.concat(axis=1) instead. To get a de-fragmented frame, use `newframe = frame.copy()`\n",
      "  df[f\"exp4_{col}\"] = 6**(df[col])\n",
      "/tmp/ipykernel_52691/2042723569.py:46: PerformanceWarning: DataFrame is highly fragmented.  This is usually the result of calling `frame.insert` many times, which has poor performance.  Consider joining all columns at once using pd.concat(axis=1) instead. To get a de-fragmented frame, use `newframe = frame.copy()`\n",
      "  df[f\"exp4_{col}\"] = 6**(df[col])\n",
      "/tmp/ipykernel_52691/2042723569.py:46: PerformanceWarning: DataFrame is highly fragmented.  This is usually the result of calling `frame.insert` many times, which has poor performance.  Consider joining all columns at once using pd.concat(axis=1) instead. To get a de-fragmented frame, use `newframe = frame.copy()`\n",
      "  df[f\"exp4_{col}\"] = 6**(df[col])\n",
      "/tmp/ipykernel_52691/2042723569.py:46: PerformanceWarning: DataFrame is highly fragmented.  This is usually the result of calling `frame.insert` many times, which has poor performance.  Consider joining all columns at once using pd.concat(axis=1) instead. To get a de-fragmented frame, use `newframe = frame.copy()`\n",
      "  df[f\"exp4_{col}\"] = 6**(df[col])\n",
      "/tmp/ipykernel_52691/2042723569.py:46: PerformanceWarning: DataFrame is highly fragmented.  This is usually the result of calling `frame.insert` many times, which has poor performance.  Consider joining all columns at once using pd.concat(axis=1) instead. To get a de-fragmented frame, use `newframe = frame.copy()`\n",
      "  df[f\"exp4_{col}\"] = 6**(df[col])\n",
      "/tmp/ipykernel_52691/2042723569.py:46: PerformanceWarning: DataFrame is highly fragmented.  This is usually the result of calling `frame.insert` many times, which has poor performance.  Consider joining all columns at once using pd.concat(axis=1) instead. To get a de-fragmented frame, use `newframe = frame.copy()`\n",
      "  df[f\"exp4_{col}\"] = 6**(df[col])\n",
      "/tmp/ipykernel_52691/2042723569.py:46: PerformanceWarning: DataFrame is highly fragmented.  This is usually the result of calling `frame.insert` many times, which has poor performance.  Consider joining all columns at once using pd.concat(axis=1) instead. To get a de-fragmented frame, use `newframe = frame.copy()`\n",
      "  df[f\"exp4_{col}\"] = 6**(df[col])\n",
      "/tmp/ipykernel_52691/2042723569.py:46: PerformanceWarning: DataFrame is highly fragmented.  This is usually the result of calling `frame.insert` many times, which has poor performance.  Consider joining all columns at once using pd.concat(axis=1) instead. To get a de-fragmented frame, use `newframe = frame.copy()`\n",
      "  df[f\"exp4_{col}\"] = 6**(df[col])\n",
      "/tmp/ipykernel_52691/2042723569.py:46: PerformanceWarning: DataFrame is highly fragmented.  This is usually the result of calling `frame.insert` many times, which has poor performance.  Consider joining all columns at once using pd.concat(axis=1) instead. To get a de-fragmented frame, use `newframe = frame.copy()`\n",
      "  df[f\"exp4_{col}\"] = 6**(df[col])\n",
      "/tmp/ipykernel_52691/2042723569.py:46: PerformanceWarning: DataFrame is highly fragmented.  This is usually the result of calling `frame.insert` many times, which has poor performance.  Consider joining all columns at once using pd.concat(axis=1) instead. To get a de-fragmented frame, use `newframe = frame.copy()`\n",
      "  df[f\"exp4_{col}\"] = 6**(df[col])\n",
      "/tmp/ipykernel_52691/2042723569.py:46: PerformanceWarning: DataFrame is highly fragmented.  This is usually the result of calling `frame.insert` many times, which has poor performance.  Consider joining all columns at once using pd.concat(axis=1) instead. To get a de-fragmented frame, use `newframe = frame.copy()`\n",
      "  df[f\"exp4_{col}\"] = 6**(df[col])\n",
      "/tmp/ipykernel_52691/2042723569.py:46: PerformanceWarning: DataFrame is highly fragmented.  This is usually the result of calling `frame.insert` many times, which has poor performance.  Consider joining all columns at once using pd.concat(axis=1) instead. To get a de-fragmented frame, use `newframe = frame.copy()`\n",
      "  df[f\"exp4_{col}\"] = 6**(df[col])\n",
      "/tmp/ipykernel_52691/2042723569.py:46: PerformanceWarning: DataFrame is highly fragmented.  This is usually the result of calling `frame.insert` many times, which has poor performance.  Consider joining all columns at once using pd.concat(axis=1) instead. To get a de-fragmented frame, use `newframe = frame.copy()`\n",
      "  df[f\"exp4_{col}\"] = 6**(df[col])\n",
      "/tmp/ipykernel_52691/2042723569.py:46: PerformanceWarning: DataFrame is highly fragmented.  This is usually the result of calling `frame.insert` many times, which has poor performance.  Consider joining all columns at once using pd.concat(axis=1) instead. To get a de-fragmented frame, use `newframe = frame.copy()`\n",
      "  df[f\"exp4_{col}\"] = 6**(df[col])\n",
      "/tmp/ipykernel_52691/2042723569.py:46: PerformanceWarning: DataFrame is highly fragmented.  This is usually the result of calling `frame.insert` many times, which has poor performance.  Consider joining all columns at once using pd.concat(axis=1) instead. To get a de-fragmented frame, use `newframe = frame.copy()`\n",
      "  df[f\"exp4_{col}\"] = 6**(df[col])\n",
      "/tmp/ipykernel_52691/2042723569.py:46: PerformanceWarning: DataFrame is highly fragmented.  This is usually the result of calling `frame.insert` many times, which has poor performance.  Consider joining all columns at once using pd.concat(axis=1) instead. To get a de-fragmented frame, use `newframe = frame.copy()`\n",
      "  df[f\"exp4_{col}\"] = 6**(df[col])\n",
      "/tmp/ipykernel_52691/2042723569.py:46: PerformanceWarning: DataFrame is highly fragmented.  This is usually the result of calling `frame.insert` many times, which has poor performance.  Consider joining all columns at once using pd.concat(axis=1) instead. To get a de-fragmented frame, use `newframe = frame.copy()`\n",
      "  df[f\"exp4_{col}\"] = 6**(df[col])\n",
      "/tmp/ipykernel_52691/2042723569.py:47: PerformanceWarning: DataFrame is highly fragmented.  This is usually the result of calling `frame.insert` many times, which has poor performance.  Consider joining all columns at once using pd.concat(axis=1) instead. To get a de-fragmented frame, use `newframe = frame.copy()`\n",
      "  df['exp4_sum'] = df[exp4_features].sum(axis=1)\n"
     ]
    }
   ],
   "source": [
    "df = create_features_4(raw_train)"
   ]
  },
  {
   "cell_type": "code",
   "execution_count": 10,
   "metadata": {},
   "outputs": [
    {
     "data": {
      "text/plain": [
       "Index(['id', 'MonsoonIntensity', 'TopographyDrainage', 'RiverManagement',\n",
       "       'Deforestation', 'Urbanization', 'ClimateChange', 'DamsQuality',\n",
       "       'Siltation', 'AgriculturalPractices', 'Encroachments',\n",
       "       'IneffectiveDisasterPreparedness', 'DrainageSystems',\n",
       "       'CoastalVulnerability', 'Landslides', 'Watersheds',\n",
       "       'DeterioratingInfrastructure', 'PopulationScore', 'WetlandLoss',\n",
       "       'InadequatePlanning', 'PoliticalFactors', 'FloodProbability'],\n",
       "      dtype='object')"
      ]
     },
     "execution_count": 10,
     "metadata": {},
     "output_type": "execute_result"
    }
   ],
   "source": [
    "raw_train.columns"
   ]
  },
  {
   "cell_type": "code",
   "execution_count": 11,
   "metadata": {},
   "outputs": [
    {
     "data": {
      "text/html": [
       "<div>\n",
       "<style scoped>\n",
       "    .dataframe tbody tr th:only-of-type {\n",
       "        vertical-align: middle;\n",
       "    }\n",
       "\n",
       "    .dataframe tbody tr th {\n",
       "        vertical-align: top;\n",
       "    }\n",
       "\n",
       "    .dataframe thead th {\n",
       "        text-align: right;\n",
       "    }\n",
       "</style>\n",
       "<table border=\"1\" class=\"dataframe\">\n",
       "  <thead>\n",
       "    <tr style=\"text-align: right;\">\n",
       "      <th></th>\n",
       "      <th>MonsoonIntensity</th>\n",
       "      <th>TopographyDrainage</th>\n",
       "      <th>RiverManagement</th>\n",
       "      <th>Deforestation</th>\n",
       "      <th>Urbanization</th>\n",
       "      <th>ClimateChange</th>\n",
       "      <th>DamsQuality</th>\n",
       "      <th>Siltation</th>\n",
       "      <th>AgriculturalPractices</th>\n",
       "      <th>Encroachments</th>\n",
       "      <th>...</th>\n",
       "      <th>InadequatePlanning</th>\n",
       "      <th>PoliticalFactors</th>\n",
       "      <th>fsum</th>\n",
       "      <th>one_count</th>\n",
       "      <th>fsum2</th>\n",
       "      <th>exp_sum</th>\n",
       "      <th>log_sum</th>\n",
       "      <th>log2_sum</th>\n",
       "      <th>exp2_sum</th>\n",
       "      <th>exp3_sum</th>\n",
       "    </tr>\n",
       "  </thead>\n",
       "  <tbody>\n",
       "    <tr>\n",
       "      <th>0</th>\n",
       "      <td>5</td>\n",
       "      <td>8</td>\n",
       "      <td>5</td>\n",
       "      <td>8</td>\n",
       "      <td>6</td>\n",
       "      <td>4</td>\n",
       "      <td>4</td>\n",
       "      <td>3</td>\n",
       "      <td>3</td>\n",
       "      <td>4</td>\n",
       "      <td>...</td>\n",
       "      <td>7</td>\n",
       "      <td>3</td>\n",
       "      <td>94</td>\n",
       "      <td>0</td>\n",
       "      <td>7315660800000</td>\n",
       "      <td>49.567980</td>\n",
       "      <td>33.926259</td>\n",
       "      <td>33.926259</td>\n",
       "      <td>9626.886221</td>\n",
       "      <td>174416</td>\n",
       "    </tr>\n",
       "    <tr>\n",
       "      <th>1</th>\n",
       "      <td>6</td>\n",
       "      <td>7</td>\n",
       "      <td>4</td>\n",
       "      <td>4</td>\n",
       "      <td>8</td>\n",
       "      <td>8</td>\n",
       "      <td>3</td>\n",
       "      <td>5</td>\n",
       "      <td>4</td>\n",
       "      <td>6</td>\n",
       "      <td>...</td>\n",
       "      <td>4</td>\n",
       "      <td>3</td>\n",
       "      <td>94</td>\n",
       "      <td>0</td>\n",
       "      <td>0</td>\n",
       "      <td>51.248784</td>\n",
       "      <td>32.799550</td>\n",
       "      <td>32.799550</td>\n",
       "      <td>17689.159465</td>\n",
       "      <td>437585</td>\n",
       "    </tr>\n",
       "    <tr>\n",
       "      <th>2</th>\n",
       "      <td>6</td>\n",
       "      <td>5</td>\n",
       "      <td>6</td>\n",
       "      <td>7</td>\n",
       "      <td>3</td>\n",
       "      <td>7</td>\n",
       "      <td>1</td>\n",
       "      <td>5</td>\n",
       "      <td>4</td>\n",
       "      <td>5</td>\n",
       "      <td>...</td>\n",
       "      <td>3</td>\n",
       "      <td>3</td>\n",
       "      <td>99</td>\n",
       "      <td>0</td>\n",
       "      <td>10081895040000</td>\n",
       "      <td>52.155356</td>\n",
       "      <td>34.412432</td>\n",
       "      <td>34.412432</td>\n",
       "      <td>9719.906067</td>\n",
       "      <td>152084</td>\n",
       "    </tr>\n",
       "    <tr>\n",
       "      <th>3</th>\n",
       "      <td>3</td>\n",
       "      <td>4</td>\n",
       "      <td>6</td>\n",
       "      <td>5</td>\n",
       "      <td>4</td>\n",
       "      <td>8</td>\n",
       "      <td>4</td>\n",
       "      <td>7</td>\n",
       "      <td>6</td>\n",
       "      <td>8</td>\n",
       "      <td>...</td>\n",
       "      <td>7</td>\n",
       "      <td>5</td>\n",
       "      <td>104</td>\n",
       "      <td>0</td>\n",
       "      <td>72831467520000</td>\n",
       "      <td>53.870008</td>\n",
       "      <td>35.779424</td>\n",
       "      <td>35.779424</td>\n",
       "      <td>11410.817959</td>\n",
       "      <td>198224</td>\n",
       "    </tr>\n",
       "    <tr>\n",
       "      <th>4</th>\n",
       "      <td>5</td>\n",
       "      <td>3</td>\n",
       "      <td>2</td>\n",
       "      <td>6</td>\n",
       "      <td>4</td>\n",
       "      <td>4</td>\n",
       "      <td>3</td>\n",
       "      <td>3</td>\n",
       "      <td>3</td>\n",
       "      <td>3</td>\n",
       "      <td>...</td>\n",
       "      <td>3</td>\n",
       "      <td>5</td>\n",
       "      <td>72</td>\n",
       "      <td>0</td>\n",
       "      <td>20155392000</td>\n",
       "      <td>39.971712</td>\n",
       "      <td>29.447171</td>\n",
       "      <td>29.447171</td>\n",
       "      <td>1972.108036</td>\n",
       "      <td>16580</td>\n",
       "    </tr>\n",
       "  </tbody>\n",
       "</table>\n",
       "<p>5 rows × 28 columns</p>\n",
       "</div>"
      ],
      "text/plain": [
       "   MonsoonIntensity  TopographyDrainage  RiverManagement  Deforestation  \\\n",
       "0                 5                   8                5              8   \n",
       "1                 6                   7                4              4   \n",
       "2                 6                   5                6              7   \n",
       "3                 3                   4                6              5   \n",
       "4                 5                   3                2              6   \n",
       "\n",
       "   Urbanization  ClimateChange  DamsQuality  Siltation  AgriculturalPractices  \\\n",
       "0             6              4            4          3                      3   \n",
       "1             8              8            3          5                      4   \n",
       "2             3              7            1          5                      4   \n",
       "3             4              8            4          7                      6   \n",
       "4             4              4            3          3                      3   \n",
       "\n",
       "   Encroachments  ...  InadequatePlanning  PoliticalFactors  fsum  one_count  \\\n",
       "0              4  ...                   7                 3    94          0   \n",
       "1              6  ...                   4                 3    94          0   \n",
       "2              5  ...                   3                 3    99          0   \n",
       "3              8  ...                   7                 5   104          0   \n",
       "4              3  ...                   3                 5    72          0   \n",
       "\n",
       "            fsum2    exp_sum    log_sum   log2_sum      exp2_sum  exp3_sum  \n",
       "0   7315660800000  49.567980  33.926259  33.926259   9626.886221    174416  \n",
       "1               0  51.248784  32.799550  32.799550  17689.159465    437585  \n",
       "2  10081895040000  52.155356  34.412432  34.412432   9719.906067    152084  \n",
       "3  72831467520000  53.870008  35.779424  35.779424  11410.817959    198224  \n",
       "4     20155392000  39.971712  29.447171  29.447171   1972.108036     16580  \n",
       "\n",
       "[5 rows x 28 columns]"
      ]
     },
     "execution_count": 11,
     "metadata": {},
     "output_type": "execute_result"
    }
   ],
   "source": [
    "df.head()"
   ]
  },
  {
   "cell_type": "code",
   "execution_count": 12,
   "metadata": {},
   "outputs": [],
   "source": [
    "import matplotlib.pyplot as plt"
   ]
  },
  {
   "cell_type": "code",
   "execution_count": 13,
   "metadata": {},
   "outputs": [],
   "source": [
    "df['FloodProbability'] = raw_train['FloodProbability']"
   ]
  },
  {
   "cell_type": "code",
   "execution_count": 14,
   "metadata": {},
   "outputs": [],
   "source": [
    "import seaborn as sns"
   ]
  },
  {
   "cell_type": "code",
   "execution_count": 15,
   "metadata": {},
   "outputs": [
    {
     "data": {
      "text/plain": [
       "Index(['MonsoonIntensity', 'TopographyDrainage', 'RiverManagement',\n",
       "       'Deforestation', 'Urbanization', 'ClimateChange', 'DamsQuality',\n",
       "       'Siltation', 'AgriculturalPractices', 'Encroachments',\n",
       "       'IneffectiveDisasterPreparedness', 'DrainageSystems',\n",
       "       'CoastalVulnerability', 'Landslides', 'Watersheds',\n",
       "       'DeterioratingInfrastructure', 'PopulationScore', 'WetlandLoss',\n",
       "       'InadequatePlanning', 'PoliticalFactors', 'fsum', 'one_count', 'fsum2',\n",
       "       'exp_sum', 'log_sum', 'log2_sum', 'exp2_sum', 'exp3_sum',\n",
       "       'FloodProbability'],\n",
       "      dtype='object')"
      ]
     },
     "execution_count": 15,
     "metadata": {},
     "output_type": "execute_result"
    }
   ],
   "source": [
    "df.columns"
   ]
  },
  {
   "cell_type": "code",
   "execution_count": 16,
   "metadata": {},
   "outputs": [],
   "source": [
    "# sns.boxplot(x=\"log_sum\", y=\"FloodProbability\", data=df)"
   ]
  },
  {
   "cell_type": "code",
   "execution_count": 24,
   "metadata": {},
   "outputs": [
    {
     "data": {
      "text/plain": [
       "[<matplotlib.lines.Line2D at 0x7f6e2339bc10>,\n",
       " <matplotlib.lines.Line2D at 0x7f6e233794b0>]"
      ]
     },
     "execution_count": 24,
     "metadata": {},
     "output_type": "execute_result"
    },
    {
     "data": {
      "image/png": "[encoded data removed]",
      "text/plain": [
       "<Figure size 640x480 with 1 Axes>"
      ]
     },
     "metadata": {},
     "output_type": "display_data"
    }
   ],
   "source": [
    "plt.plot(df[['fsum','FloodProbability']])"
   ]
  },
  {
   "cell_type": "code",
   "execution_count": 25,
   "metadata": {},
   "outputs": [
    {
     "data": {
      "text/plain": [
       "<Axes: xlabel='fsum', ylabel='Count'>"
      ]
     },
     "execution_count": 25,
     "metadata": {},
     "output_type": "execute_result"
    },
    {
     "data": {
      "image/png": "[encoded data removed]",
      "text/plain": [
       "<Figure size 640x480 with 1 Axes>"
      ]
     },
     "metadata": {},
     "output_type": "display_data"
    }
   ],
   "source": [
    "sns.histplot(df['fsum'])"
   ]
  },
  {
   "cell_type": "code",
   "execution_count": 26,
   "metadata": {},
   "outputs": [
    {
     "data": {
      "text/plain": [
       "count    1.117957e+06\n",
       "mean     9.878823e+01\n",
       "std      8.307287e+00\n",
       "min      6.300000e+01\n",
       "25%      9.400000e+01\n",
       "50%      9.800000e+01\n",
       "75%      1.040000e+02\n",
       "max      1.440000e+02\n",
       "Name: fsum, dtype: float64"
      ]
     },
     "execution_count": 26,
     "metadata": {},
     "output_type": "execute_result"
    }
   ],
   "source": [
    "df['fsum'].describe()"
   ]
  },
  {
   "cell_type": "code",
   "execution_count": null,
   "metadata": {},
   "outputs": [],
   "source": []
  }
 ],
 "metadata": {
  "kernelspec": {
   "display_name": "cloudspace",
   "language": "python",
   "name": "python3"
  },
  "language_info": {
   "name": "python",
   "version": "3.10.10"
  }
 },
 "nbformat": 4,
 "nbformat_minor": 2
}
