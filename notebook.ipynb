{
 "cells": [
  {
   "cell_type": "code",
   "execution_count": 1,
   "metadata": {},
   "outputs": [],
   "source": [
    "import config as config\n",
    "import data_handling as data_handler\n",
    "import models as models\n",
    "import features as features"
   ]
  },
  {
   "cell_type": "code",
   "execution_count": 2,
   "metadata": {},
   "outputs": [],
   "source": [
    "PERFORM_PCA = True\n",
    "FEATURE_FUNC = 9\n",
    "PCA_N_COMP = 10"
   ]
  },
  {
   "cell_type": "code",
   "execution_count": 3,
   "metadata": {},
   "outputs": [],
   "source": [
    "raw_train, raw_valid = data_handler.load_data()\n",
    "X_train, X_test, y_train, y_test,valid_X,valid_X_scaled = data_handler.get_splits(raw_train,raw_valid,FEATURE_FUNC)\n",
    "\n",
    "if PERFORM_PCA:\n",
    "    X_train, X_test, y_train, y_test,valid_X,valid_X_scaled = data_handler.perform_PCA(X_train, X_test, y_train, y_test,valid_X,valid_X_scaled,PCA_N_COMP)"
   ]
  },
  {
   "cell_type": "code",
   "execution_count": 4,
   "metadata": {},
   "outputs": [
    {
     "name": "stdout",
     "output_type": "stream",
     "text": [
      "Model Name :  xgb\n",
      "Fitting 5 folds for each of 9 candidates, totalling 45 fits\n"
     ]
    },
    {
     "name": "stdout",
     "output_type": "stream",
     "text": [
      "[CV] END ........................booster=gbtree, max_depth=3; total time=   9.6s\n",
      "[CV] END ........................booster=gbtree, max_depth=3; total time=  10.1s\n",
      "[CV] END ........................booster=gbtree, max_depth=3; total time=  10.2s\n",
      "[CV] END ........................booster=gbtree, max_depth=3; total time=  11.0s\n",
      "[CV] END ........................booster=gbtree, max_depth=3; total time=   9.8s\n",
      "[CV] END ........................booster=gbtree, max_depth=5; total time=  12.4s\n",
      "[CV] END ........................booster=gbtree, max_depth=5; total time=  13.8s\n",
      "[CV] END ........................booster=gbtree, max_depth=5; total time=  13.1s\n",
      "[CV] END ........................booster=gbtree, max_depth=5; total time=  13.3s\n",
      "[CV] END ........................booster=gbtree, max_depth=5; total time=  13.3s\n",
      "[CV] END ........................booster=gbtree, max_depth=7; total time=  17.2s\n",
      "[CV] END ........................booster=gbtree, max_depth=7; total time=  17.0s\n"
     ]
    },
    {
     "name": "stderr",
     "output_type": "stream",
     "text": [
      "/home/zeus/miniconda3/envs/cloudspace/lib/python3.10/site-packages/xgboost/core.py:158: UserWarning: [11:55:09] WARNING: /workspace/src/learner.cc:740: \n",
      "Parameters: { \"max_depth\" } are not used.\n",
      "\n",
      "  warnings.warn(smsg, UserWarning)\n"
     ]
    },
    {
     "name": "stdout",
     "output_type": "stream",
     "text": [
      "[CV] END ........................booster=gbtree, max_depth=7; total time=  17.0s\n"
     ]
    },
    {
     "name": "stderr",
     "output_type": "stream",
     "text": [
      "/home/zeus/miniconda3/envs/cloudspace/lib/python3.10/site-packages/xgboost/core.py:158: UserWarning: [11:55:17] WARNING: /workspace/src/learner.cc:740: \n",
      "Parameters: { \"max_depth\" } are not used.\n",
      "\n",
      "  warnings.warn(smsg, UserWarning)\n"
     ]
    },
    {
     "name": "stdout",
     "output_type": "stream",
     "text": [
      "[CV] END ........................booster=gbtree, max_depth=7; total time=  18.0s\n"
     ]
    },
    {
     "name": "stderr",
     "output_type": "stream",
     "text": [
      "/home/zeus/miniconda3/envs/cloudspace/lib/python3.10/site-packages/xgboost/core.py:158: UserWarning: [11:55:21] WARNING: /workspace/src/learner.cc:740: \n",
      "Parameters: { \"max_depth\" } are not used.\n",
      "\n",
      "  warnings.warn(smsg, UserWarning)\n"
     ]
    },
    {
     "name": "stdout",
     "output_type": "stream",
     "text": [
      "[CV] END ........................booster=gbtree, max_depth=7; total time=  17.4s\n",
      "[CV] END ......................booster=gblinear, max_depth=3; total time=  17.5s\n"
     ]
    },
    {
     "name": "stderr",
     "output_type": "stream",
     "text": [
      "/home/zeus/miniconda3/envs/cloudspace/lib/python3.10/site-packages/xgboost/core.py:158: UserWarning: [11:55:26] WARNING: /workspace/src/learner.cc:740: \n",
      "Parameters: { \"max_depth\" } are not used.\n",
      "\n",
      "  warnings.warn(smsg, UserWarning)\n",
      "/home/zeus/miniconda3/envs/cloudspace/lib/python3.10/site-packages/xgboost/core.py:158: UserWarning: [11:55:26] WARNING: /workspace/src/learner.cc:740: \n",
      "Parameters: { \"max_depth\" } are not used.\n",
      "\n",
      "  warnings.warn(smsg, UserWarning)\n"
     ]
    },
    {
     "name": "stdout",
     "output_type": "stream",
     "text": [
      "[CV] END ......................booster=gblinear, max_depth=3; total time=  17.3s\n"
     ]
    },
    {
     "name": "stderr",
     "output_type": "stream",
     "text": [
      "/home/zeus/miniconda3/envs/cloudspace/lib/python3.10/site-packages/xgboost/core.py:158: UserWarning: [11:55:35] WARNING: /workspace/src/learner.cc:740: \n",
      "Parameters: { \"max_depth\" } are not used.\n",
      "\n",
      "  warnings.warn(smsg, UserWarning)\n"
     ]
    },
    {
     "name": "stdout",
     "output_type": "stream",
     "text": [
      "[CV] END ......................booster=gblinear, max_depth=3; total time=  17.1s\n"
     ]
    },
    {
     "name": "stderr",
     "output_type": "stream",
     "text": [
      "/home/zeus/miniconda3/envs/cloudspace/lib/python3.10/site-packages/xgboost/core.py:158: UserWarning: [11:55:39] WARNING: /workspace/src/learner.cc:740: \n",
      "Parameters: { \"max_depth\" } are not used.\n",
      "\n",
      "  warnings.warn(smsg, UserWarning)\n"
     ]
    },
    {
     "name": "stdout",
     "output_type": "stream",
     "text": [
      "[CV] END ......................booster=gblinear, max_depth=3; total time=  16.3s\n",
      "[CV] END ......................booster=gblinear, max_depth=3; total time=  16.6s\n"
     ]
    },
    {
     "name": "stderr",
     "output_type": "stream",
     "text": [
      "/home/zeus/miniconda3/envs/cloudspace/lib/python3.10/site-packages/xgboost/core.py:158: UserWarning: [11:55:43] WARNING: /workspace/src/learner.cc:740: \n",
      "Parameters: { \"max_depth\" } are not used.\n",
      "\n",
      "  warnings.warn(smsg, UserWarning)\n",
      "/home/zeus/miniconda3/envs/cloudspace/lib/python3.10/site-packages/xgboost/core.py:158: UserWarning: [11:55:43] WARNING: /workspace/src/learner.cc:740: \n",
      "Parameters: { \"max_depth\" } are not used.\n",
      "\n",
      "  warnings.warn(smsg, UserWarning)\n"
     ]
    },
    {
     "name": "stdout",
     "output_type": "stream",
     "text": [
      "[CV] END ......................booster=gblinear, max_depth=5; total time=  17.6s\n"
     ]
    },
    {
     "name": "stderr",
     "output_type": "stream",
     "text": [
      "/home/zeus/miniconda3/envs/cloudspace/lib/python3.10/site-packages/xgboost/core.py:158: UserWarning: [11:55:52] WARNING: /workspace/src/learner.cc:740: \n",
      "Parameters: { \"max_depth\" } are not used.\n",
      "\n",
      "  warnings.warn(smsg, UserWarning)\n"
     ]
    },
    {
     "name": "stdout",
     "output_type": "stream",
     "text": [
      "[CV] END ......................booster=gblinear, max_depth=5; total time=  17.5s\n"
     ]
    },
    {
     "name": "stderr",
     "output_type": "stream",
     "text": [
      "/home/zeus/miniconda3/envs/cloudspace/lib/python3.10/site-packages/xgboost/core.py:158: UserWarning: [11:55:56] WARNING: /workspace/src/learner.cc:740: \n",
      "Parameters: { \"max_depth\" } are not used.\n",
      "\n",
      "  warnings.warn(smsg, UserWarning)\n"
     ]
    },
    {
     "name": "stdout",
     "output_type": "stream",
     "text": [
      "[CV] END ......................booster=gblinear, max_depth=5; total time=  17.4s\n",
      "[CV] END ......................booster=gblinear, max_depth=5; total time=  17.4s\n"
     ]
    },
    {
     "name": "stderr",
     "output_type": "stream",
     "text": [
      "/home/zeus/miniconda3/envs/cloudspace/lib/python3.10/site-packages/xgboost/core.py:158: UserWarning: [11:56:00] WARNING: /workspace/src/learner.cc:740: \n",
      "Parameters: { \"max_depth\" } are not used.\n",
      "\n",
      "  warnings.warn(smsg, UserWarning)\n",
      "/home/zeus/miniconda3/envs/cloudspace/lib/python3.10/site-packages/xgboost/core.py:158: UserWarning: [11:56:00] WARNING: /workspace/src/learner.cc:740: \n",
      "Parameters: { \"max_depth\" } are not used.\n",
      "\n",
      "  warnings.warn(smsg, UserWarning)\n"
     ]
    },
    {
     "name": "stdout",
     "output_type": "stream",
     "text": [
      "[CV] END ......................booster=gblinear, max_depth=5; total time=  16.2s\n"
     ]
    },
    {
     "name": "stderr",
     "output_type": "stream",
     "text": [
      "/home/zeus/miniconda3/envs/cloudspace/lib/python3.10/site-packages/xgboost/core.py:158: UserWarning: [11:56:09] WARNING: /workspace/src/learner.cc:740: \n",
      "Parameters: { \"max_depth\" } are not used.\n",
      "\n",
      "  warnings.warn(smsg, UserWarning)\n"
     ]
    },
    {
     "name": "stdout",
     "output_type": "stream",
     "text": [
      "[CV] END ......................booster=gblinear, max_depth=7; total time=  16.5s\n"
     ]
    },
    {
     "name": "stderr",
     "output_type": "stream",
     "text": [
      "/home/zeus/miniconda3/envs/cloudspace/lib/python3.10/site-packages/xgboost/core.py:158: UserWarning: [11:56:13] WARNING: /workspace/src/learner.cc:740: \n",
      "Parameters: { \"max_depth\" } are not used.\n",
      "\n",
      "  warnings.warn(smsg, UserWarning)\n"
     ]
    },
    {
     "name": "stdout",
     "output_type": "stream",
     "text": [
      "[CV] END ......................booster=gblinear, max_depth=7; total time=  16.4s\n",
      "[CV] END ......................booster=gblinear, max_depth=7; total time=  16.8s\n",
      "[CV] END ......................booster=gblinear, max_depth=7; total time=  16.2s\n",
      "[CV] END ......................booster=gblinear, max_depth=7; total time=  16.3s\n",
      "[CV] END ..........................booster=dart, max_depth=3; total time=15.3min\n",
      "[CV] END ..........................booster=dart, max_depth=3; total time=15.3min\n",
      "[CV] END ..........................booster=dart, max_depth=3; total time=15.3min\n",
      "[CV] END ..........................booster=dart, max_depth=3; total time=15.7min\n",
      "[CV] END ..........................booster=dart, max_depth=3; total time=13.0min\n",
      "[CV] END ..........................booster=dart, max_depth=5; total time=13.7min\n",
      "[CV] END ..........................booster=dart, max_depth=5; total time=14.0min\n",
      "[CV] END ..........................booster=dart, max_depth=5; total time=14.4min\n",
      "[CV] END ..........................booster=dart, max_depth=5; total time=14.1min\n",
      "[CV] END ..........................booster=dart, max_depth=5; total time=14.0min\n",
      "[CV] END ..........................booster=dart, max_depth=7; total time=14.8min\n",
      "[CV] END ..........................booster=dart, max_depth=7; total time=14.8min\n",
      "[CV] END ..........................booster=dart, max_depth=7; total time=12.3min\n",
      "[CV] END ..........................booster=dart, max_depth=7; total time=12.1min\n",
      "[CV] END ..........................booster=dart, max_depth=7; total time=11.1min\n",
      "Finished training model xgb\n",
      "Test Score :  0.8638566880299176\n"
     ]
    }
   ],
   "source": [
    "Experiment_Desc = f\"Feature Func : {FEATURE_FUNC}, CV = {config.CV}, RANDOM_STATE = {config.RANDOM_STATE}, PCA : {PERFORM_PCA}\"\n",
    "# md_lr = models.run_experiment('linear_regression',Experiment_Desc,X_train,X_test,y_train,y_test,valid_X_scaled)\n",
    "# md_lgbm = models.run_experiment('lgbm',Experiment_Desc,X_train,X_test,y_train,y_test,valid_X_scaled)\n",
    "md_xgb = models.run_experiment('xgb',Experiment_Desc,X_train,X_test,y_train,y_test,valid_X_scaled)\n",
    "# md_catboost =models.run_experiment('catboost',Experiment_Desc,X_train,X_test,y_train,y_test,valid_X_scaled)"
   ]
  },
  {
   "cell_type": "code",
   "execution_count": null,
   "metadata": {},
   "outputs": [],
   "source": []
  }
 ],
 "metadata": {
  "language_info": {
   "name": "python"
  }
 },
 "nbformat": 4,
 "nbformat_minor": 2
}
