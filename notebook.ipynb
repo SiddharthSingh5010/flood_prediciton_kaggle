{
 "cells": [
  {
   "cell_type": "code",
   "execution_count": 1,
   "metadata": {},
   "outputs": [],
   "source": [
    "import config as config\n",
    "import data_handling as data_handler\n",
    "import models as models\n",
    "import features as features"
   ]
  },
  {
   "cell_type": "code",
   "execution_count": 2,
   "metadata": {},
   "outputs": [],
   "source": [
    "raw_train, raw_valid = data_handler.load_data()"
   ]
  },
  {
   "cell_type": "code",
   "execution_count": 3,
   "metadata": {},
   "outputs": [],
   "source": [
    "X_train, X_test, y_train, y_test,valid_X,valid_X_scaled = data_handler.get_splits(raw_train,raw_valid,7)"
   ]
  },
  {
   "cell_type": "code",
   "execution_count": 4,
   "metadata": {},
   "outputs": [
    {
     "name": "stdout",
     "output_type": "stream",
     "text": [
      "Model Name :  xgb\n",
      "Fitting 5 folds for each of 1 candidates, totalling 5 fits\n"
     ]
    },
    {
     "name": "stdout",
     "output_type": "stream",
     "text": [
      "[CV] END .................................................... total time=  19.4s\n",
      "[CV] END .................................................... total time=  19.6s\n",
      "[CV] END .................................................... total time=  19.7s\n",
      "[CV] END .................................................... total time=  19.7s\n",
      "[CV] END .................................................... total time=  12.9s\n",
      "Finished training model xgb\n"
     ]
    }
   ],
   "source": [
    "Experiment_Desc = 'Feature Func : 7 , CV = 6'\n",
    "# md_lr = run_experiment('linear_regression',Experiment_Desc)\n",
    "# md_lgbm =run_experiment('lgbm',Experiment_Desc)\n",
    "# md_xgb = run_experiment('xgb',Experiment_Desc)\n",
    "md_catboost =models.run_experiment('xgb',Experiment_Desc,X_train,X_test,y_train,y_test,valid_X_scaled)"
   ]
  },
  {
   "cell_type": "code",
   "execution_count": null,
   "metadata": {},
   "outputs": [],
   "source": []
  }
 ],
 "metadata": {
  "language_info": {
   "name": "python"
  }
 },
 "nbformat": 4,
 "nbformat_minor": 2
}
